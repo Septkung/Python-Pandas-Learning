{
 "cells": [
  {
   "cell_type": "markdown",
   "id": "64018131",
   "metadata": {},
   "source": [
    "Exercise (Accident)"
   ]
  },
  {
   "cell_type": "code",
   "execution_count": 1,
   "id": "dd4c160e",
   "metadata": {},
   "outputs": [],
   "source": [
    "import pandas as pd\n",
    "\n",
    "df = pd.read_excel('___51-58_cutname_newyear_edit.xlsx')"
   ]
  },
  {
   "cell_type": "code",
   "execution_count": 4,
   "id": "c5e56f02",
   "metadata": {},
   "outputs": [
    {
     "data": {
      "text/html": [
       "<div>\n",
       "<style scoped>\n",
       "    .dataframe tbody tr th:only-of-type {\n",
       "        vertical-align: middle;\n",
       "    }\n",
       "\n",
       "    .dataframe tbody tr th {\n",
       "        vertical-align: top;\n",
       "    }\n",
       "\n",
       "    .dataframe thead th {\n",
       "        text-align: right;\n",
       "    }\n",
       "</style>\n",
       "<table border=\"1\" class=\"dataframe\">\n",
       "  <thead>\n",
       "    <tr style=\"text-align: right;\">\n",
       "      <th></th>\n",
       "      <th>ชื่อเทศกาล</th>\n",
       "      <th>รหัสจังหวัด</th>\n",
       "      <th>จังหวัด</th>\n",
       "      <th>รหัส รพ.</th>\n",
       "      <th>ชื่อโรงพยาบาลที่รับผู้บาดเจ็บ</th>\n",
       "      <th>วันที่เกิดเหตุ</th>\n",
       "      <th>เวลาเกิดเหตุ</th>\n",
       "      <th>เพศ</th>\n",
       "      <th>อายุ</th>\n",
       "      <th>ถนนที่เกิดเหตุ</th>\n",
       "      <th>สถานะ</th>\n",
       "      <th>รถผู้บาดเจ็บ</th>\n",
       "      <th>รถคู่กรณี</th>\n",
       "      <th>มาตรการ</th>\n",
       "      <th>การดื่มสุรา</th>\n",
       "      <th>การนำส่ง</th>\n",
       "      <th>Refer-Admit</th>\n",
       "      <th>ผลการรักษา</th>\n",
       "      <th>จำนวนวันรักษา</th>\n",
       "    </tr>\n",
       "  </thead>\n",
       "  <tbody>\n",
       "    <tr>\n",
       "      <th>0</th>\n",
       "      <td>ปีใหม่ 51</td>\n",
       "      <td>10</td>\n",
       "      <td>กรุงเทพมหานคร</td>\n",
       "      <td>11630</td>\n",
       "      <td>กรุงเทพ</td>\n",
       "      <td>3</td>\n",
       "      <td>12:01-13:00 น.</td>\n",
       "      <td>หญิง</td>\n",
       "      <td>54</td>\n",
       "      <td>ในเมือง</td>\n",
       "      <td>ผู้ชับขี่</td>\n",
       "      <td>รถเก๋ง/แท็กซี่</td>\n",
       "      <td>ไม่มี/ล้มเอง</td>\n",
       "      <td>เข็มขัด</td>\n",
       "      <td>ไม่ดื่ม</td>\n",
       "      <td>ผู้ประสบเหตุ/ญาติ</td>\n",
       "      <td>ไม่</td>\n",
       "      <td>ทุเลา/หาย</td>\n",
       "      <td>0</td>\n",
       "    </tr>\n",
       "    <tr>\n",
       "      <th>1</th>\n",
       "      <td>ปีใหม่ 51</td>\n",
       "      <td>10</td>\n",
       "      <td>กรุงเทพมหานคร</td>\n",
       "      <td>11548</td>\n",
       "      <td>กรุงเทพคริสเตียน</td>\n",
       "      <td>2</td>\n",
       "      <td>21:01-22:00 น.</td>\n",
       "      <td>หญิง</td>\n",
       "      <td>13</td>\n",
       "      <td>ในเมือง</td>\n",
       "      <td>ผู้ชับขี่</td>\n",
       "      <td>จักรยานยนต์</td>\n",
       "      <td>รถตู้</td>\n",
       "      <td>ใส่หมวก</td>\n",
       "      <td>ไม่ดื่ม</td>\n",
       "      <td>มูลนิธิ/อาสาสมัคร</td>\n",
       "      <td>admit</td>\n",
       "      <td>ทุเลา/หาย</td>\n",
       "      <td>0</td>\n",
       "    </tr>\n",
       "    <tr>\n",
       "      <th>2</th>\n",
       "      <td>ปีใหม่ 51</td>\n",
       "      <td>10</td>\n",
       "      <td>กรุงเทพมหานคร</td>\n",
       "      <td>11548</td>\n",
       "      <td>กรุงเทพคริสเตียน</td>\n",
       "      <td>31</td>\n",
       "      <td>03:01-04:00 น.</td>\n",
       "      <td>หญิง</td>\n",
       "      <td>0</td>\n",
       "      <td>ในเมือง</td>\n",
       "      <td>ผู้โดยสาร</td>\n",
       "      <td>จักรยานยนต์</td>\n",
       "      <td>ปิคอัพ</td>\n",
       "      <td>ไม่ใส่</td>\n",
       "      <td>ไม่ดื่ม</td>\n",
       "      <td>ผู้ประสบเหตุ/ญาติ</td>\n",
       "      <td>ไม่</td>\n",
       "      <td>ทุเลา/หาย</td>\n",
       "      <td>0</td>\n",
       "    </tr>\n",
       "    <tr>\n",
       "      <th>3</th>\n",
       "      <td>ปีใหม่ 51</td>\n",
       "      <td>10</td>\n",
       "      <td>กรุงเทพมหานคร</td>\n",
       "      <td>11548</td>\n",
       "      <td>กรุงเทพคริสเตียน</td>\n",
       "      <td>31</td>\n",
       "      <td>03:01-04:00 น.</td>\n",
       "      <td>หญิง</td>\n",
       "      <td>0</td>\n",
       "      <td>ในเมือง</td>\n",
       "      <td>ผู้โดยสาร</td>\n",
       "      <td>จักรยานยนต์</td>\n",
       "      <td>ปิคอัพ</td>\n",
       "      <td>ใส่หมวก</td>\n",
       "      <td>ไม่ดื่ม</td>\n",
       "      <td>ผู้ประสบเหตุ/ญาติ</td>\n",
       "      <td>ไม่</td>\n",
       "      <td>ทุเลา/หาย</td>\n",
       "      <td>0</td>\n",
       "    </tr>\n",
       "    <tr>\n",
       "      <th>4</th>\n",
       "      <td>ปีใหม่ 51</td>\n",
       "      <td>10</td>\n",
       "      <td>กรุงเทพมหานคร</td>\n",
       "      <td>11548</td>\n",
       "      <td>กรุงเทพคริสเตียน</td>\n",
       "      <td>31</td>\n",
       "      <td>03:01-04:00 น.</td>\n",
       "      <td>ชาย</td>\n",
       "      <td>0</td>\n",
       "      <td>ในเมือง</td>\n",
       "      <td>ผู้ชับขี่</td>\n",
       "      <td>จักรยานยนต์</td>\n",
       "      <td>ปิคอัพ</td>\n",
       "      <td>ใส่หมวก</td>\n",
       "      <td>ดื่ม</td>\n",
       "      <td>ผู้ประสบเหตุ/ญาติ</td>\n",
       "      <td>ไม่</td>\n",
       "      <td>ทุเลา/หาย</td>\n",
       "      <td>0</td>\n",
       "    </tr>\n",
       "    <tr>\n",
       "      <th>...</th>\n",
       "      <td>...</td>\n",
       "      <td>...</td>\n",
       "      <td>...</td>\n",
       "      <td>...</td>\n",
       "      <td>...</td>\n",
       "      <td>...</td>\n",
       "      <td>...</td>\n",
       "      <td>...</td>\n",
       "      <td>...</td>\n",
       "      <td>...</td>\n",
       "      <td>...</td>\n",
       "      <td>...</td>\n",
       "      <td>...</td>\n",
       "      <td>...</td>\n",
       "      <td>...</td>\n",
       "      <td>...</td>\n",
       "      <td>...</td>\n",
       "      <td>...</td>\n",
       "      <td>...</td>\n",
       "    </tr>\n",
       "    <tr>\n",
       "      <th>214945</th>\n",
       "      <td>ปีใหม่ 58</td>\n",
       "      <td>97</td>\n",
       "      <td>บึงกาฬ</td>\n",
       "      <td>11049</td>\n",
       "      <td>ศรีวิไล</td>\n",
       "      <td>31</td>\n",
       "      <td>09:01-10:00 น.</td>\n",
       "      <td>ชาย</td>\n",
       "      <td>3</td>\n",
       "      <td>ชนบท</td>\n",
       "      <td>คนเดินเท้า</td>\n",
       "      <td>ไม่มี/ล้มเอง</td>\n",
       "      <td>จักรยานยนต์</td>\n",
       "      <td>ไม่ใส่</td>\n",
       "      <td>ไม่ดื่ม</td>\n",
       "      <td>ผู้ประสบเหตุ/ญาติ</td>\n",
       "      <td>ไม่</td>\n",
       "      <td>ทุเลา/หาย</td>\n",
       "      <td>0</td>\n",
       "    </tr>\n",
       "    <tr>\n",
       "      <th>214946</th>\n",
       "      <td>ปีใหม่ 58</td>\n",
       "      <td>97</td>\n",
       "      <td>บึงกาฬ</td>\n",
       "      <td>11049</td>\n",
       "      <td>ศรีวิไล</td>\n",
       "      <td>30</td>\n",
       "      <td>16:01-17:00 น.</td>\n",
       "      <td>หญิง</td>\n",
       "      <td>4</td>\n",
       "      <td>ชนบท</td>\n",
       "      <td>คนเดินเท้า</td>\n",
       "      <td>ไม่มี/ล้มเอง</td>\n",
       "      <td>จักรยานยนต์</td>\n",
       "      <td>ไม่ใส่</td>\n",
       "      <td>ไม่ดื่ม</td>\n",
       "      <td>ผู้ประสบเหตุ/ญาติ</td>\n",
       "      <td>ไม่</td>\n",
       "      <td>ทุเลา/หาย</td>\n",
       "      <td>0</td>\n",
       "    </tr>\n",
       "    <tr>\n",
       "      <th>214947</th>\n",
       "      <td>ปีใหม่ 58</td>\n",
       "      <td>97</td>\n",
       "      <td>บึงกาฬ</td>\n",
       "      <td>11049</td>\n",
       "      <td>ศรีวิไล</td>\n",
       "      <td>30</td>\n",
       "      <td>24:01-01:00 น.</td>\n",
       "      <td>ชาย</td>\n",
       "      <td>20</td>\n",
       "      <td>ชนบท</td>\n",
       "      <td>ผู้ชับขี่</td>\n",
       "      <td>จักรยานยนต์</td>\n",
       "      <td>ปิคอัพ</td>\n",
       "      <td>ไม่ใส่</td>\n",
       "      <td>ไม่ดื่ม</td>\n",
       "      <td>ALS</td>\n",
       "      <td>ส่งต่อก่อน admit</td>\n",
       "      <td>ทุเลา/หาย</td>\n",
       "      <td>0</td>\n",
       "    </tr>\n",
       "    <tr>\n",
       "      <th>214948</th>\n",
       "      <td>ปีใหม่ 58</td>\n",
       "      <td>97</td>\n",
       "      <td>บึงกาฬ</td>\n",
       "      <td>11049</td>\n",
       "      <td>ศรีวิไล</td>\n",
       "      <td>31</td>\n",
       "      <td>14:01-15:00 น.</td>\n",
       "      <td>ชาย</td>\n",
       "      <td>16</td>\n",
       "      <td>ชนบท</td>\n",
       "      <td>ผู้ชับขี่</td>\n",
       "      <td>จักรยานยนต์</td>\n",
       "      <td>ไม่มี/ล้มเอง</td>\n",
       "      <td>ไม่ใส่</td>\n",
       "      <td>ดื่ม</td>\n",
       "      <td>FR</td>\n",
       "      <td>ส่งต่อก่อน admit</td>\n",
       "      <td>ทุเลา/หาย</td>\n",
       "      <td>0</td>\n",
       "    </tr>\n",
       "    <tr>\n",
       "      <th>214949</th>\n",
       "      <td>ปีใหม่ 58</td>\n",
       "      <td>97</td>\n",
       "      <td>บึงกาฬ</td>\n",
       "      <td>11049</td>\n",
       "      <td>ศรีวิไล</td>\n",
       "      <td>5</td>\n",
       "      <td>15:01-16:00 น.</td>\n",
       "      <td>ชาย</td>\n",
       "      <td>19</td>\n",
       "      <td>ทางหลวง</td>\n",
       "      <td>ผู้ชับขี่</td>\n",
       "      <td>จักรยานยนต์</td>\n",
       "      <td>สามล้อเครื่อง</td>\n",
       "      <td>ใส่หมวก</td>\n",
       "      <td>ไม่ดื่ม</td>\n",
       "      <td>ผู้ประสบเหตุ/ญาติ</td>\n",
       "      <td>ส่งต่อก่อน admit</td>\n",
       "      <td>ทุเลา/หาย</td>\n",
       "      <td>0</td>\n",
       "    </tr>\n",
       "  </tbody>\n",
       "</table>\n",
       "<p>214950 rows × 19 columns</p>\n",
       "</div>"
      ],
      "text/plain": [
       "       ชื่อเทศกาล  รหัสจังหวัด        จังหวัด  รหัส รพ.  \\\n",
       "0       ปีใหม่ 51           10  กรุงเทพมหานคร     11630   \n",
       "1       ปีใหม่ 51           10  กรุงเทพมหานคร     11548   \n",
       "2       ปีใหม่ 51           10  กรุงเทพมหานคร     11548   \n",
       "3       ปีใหม่ 51           10  กรุงเทพมหานคร     11548   \n",
       "4       ปีใหม่ 51           10  กรุงเทพมหานคร     11548   \n",
       "...           ...          ...            ...       ...   \n",
       "214945  ปีใหม่ 58           97         บึงกาฬ     11049   \n",
       "214946  ปีใหม่ 58           97         บึงกาฬ     11049   \n",
       "214947  ปีใหม่ 58           97         บึงกาฬ     11049   \n",
       "214948  ปีใหม่ 58           97         บึงกาฬ     11049   \n",
       "214949  ปีใหม่ 58           97         บึงกาฬ     11049   \n",
       "\n",
       "       ชื่อโรงพยาบาลที่รับผู้บาดเจ็บ  วันที่เกิดเหตุ    เวลาเกิดเหตุ   เพศ  \\\n",
       "0                            กรุงเทพ               3  12:01-13:00 น.  หญิง   \n",
       "1                   กรุงเทพคริสเตียน               2  21:01-22:00 น.  หญิง   \n",
       "2                   กรุงเทพคริสเตียน              31  03:01-04:00 น.  หญิง   \n",
       "3                   กรุงเทพคริสเตียน              31  03:01-04:00 น.  หญิง   \n",
       "4                   กรุงเทพคริสเตียน              31  03:01-04:00 น.   ชาย   \n",
       "...                              ...             ...             ...   ...   \n",
       "214945                       ศรีวิไล              31  09:01-10:00 น.   ชาย   \n",
       "214946                       ศรีวิไล              30  16:01-17:00 น.  หญิง   \n",
       "214947                       ศรีวิไล              30  24:01-01:00 น.   ชาย   \n",
       "214948                       ศรีวิไล              31  14:01-15:00 น.   ชาย   \n",
       "214949                       ศรีวิไล               5  15:01-16:00 น.   ชาย   \n",
       "\n",
       "        อายุ ถนนที่เกิดเหตุ       สถานะ    รถผู้บาดเจ็บ      รถคู่กรณี  \\\n",
       "0         54        ในเมือง   ผู้ชับขี่  รถเก๋ง/แท็กซี่   ไม่มี/ล้มเอง   \n",
       "1         13        ในเมือง   ผู้ชับขี่     จักรยานยนต์          รถตู้   \n",
       "2          0        ในเมือง   ผู้โดยสาร     จักรยานยนต์         ปิคอัพ   \n",
       "3          0        ในเมือง   ผู้โดยสาร     จักรยานยนต์         ปิคอัพ   \n",
       "4          0        ในเมือง   ผู้ชับขี่     จักรยานยนต์         ปิคอัพ   \n",
       "...      ...            ...         ...             ...            ...   \n",
       "214945     3           ชนบท  คนเดินเท้า    ไม่มี/ล้มเอง    จักรยานยนต์   \n",
       "214946     4           ชนบท  คนเดินเท้า    ไม่มี/ล้มเอง    จักรยานยนต์   \n",
       "214947    20           ชนบท   ผู้ชับขี่     จักรยานยนต์         ปิคอัพ   \n",
       "214948    16           ชนบท   ผู้ชับขี่     จักรยานยนต์   ไม่มี/ล้มเอง   \n",
       "214949    19        ทางหลวง   ผู้ชับขี่     จักรยานยนต์  สามล้อเครื่อง   \n",
       "\n",
       "        มาตรการ การดื่มสุรา           การนำส่ง       Refer-Admit ผลการรักษา  \\\n",
       "0       เข็มขัด     ไม่ดื่ม  ผู้ประสบเหตุ/ญาติ               ไม่  ทุเลา/หาย   \n",
       "1       ใส่หมวก     ไม่ดื่ม  มูลนิธิ/อาสาสมัคร             admit  ทุเลา/หาย   \n",
       "2        ไม่ใส่     ไม่ดื่ม  ผู้ประสบเหตุ/ญาติ               ไม่  ทุเลา/หาย   \n",
       "3       ใส่หมวก     ไม่ดื่ม  ผู้ประสบเหตุ/ญาติ               ไม่  ทุเลา/หาย   \n",
       "4       ใส่หมวก        ดื่ม  ผู้ประสบเหตุ/ญาติ               ไม่  ทุเลา/หาย   \n",
       "...         ...         ...                ...               ...        ...   \n",
       "214945   ไม่ใส่     ไม่ดื่ม  ผู้ประสบเหตุ/ญาติ               ไม่  ทุเลา/หาย   \n",
       "214946   ไม่ใส่     ไม่ดื่ม  ผู้ประสบเหตุ/ญาติ               ไม่  ทุเลา/หาย   \n",
       "214947   ไม่ใส่     ไม่ดื่ม                ALS  ส่งต่อก่อน admit  ทุเลา/หาย   \n",
       "214948   ไม่ใส่        ดื่ม                 FR  ส่งต่อก่อน admit  ทุเลา/หาย   \n",
       "214949  ใส่หมวก     ไม่ดื่ม  ผู้ประสบเหตุ/ญาติ  ส่งต่อก่อน admit  ทุเลา/หาย   \n",
       "\n",
       "        จำนวนวันรักษา  \n",
       "0                   0  \n",
       "1                   0  \n",
       "2                   0  \n",
       "3                   0  \n",
       "4                   0  \n",
       "...               ...  \n",
       "214945              0  \n",
       "214946              0  \n",
       "214947              0  \n",
       "214948              0  \n",
       "214949              0  \n",
       "\n",
       "[214950 rows x 19 columns]"
      ]
     },
     "execution_count": 4,
     "metadata": {},
     "output_type": "execute_result"
    }
   ],
   "source": [
    "df"
   ]
  },
  {
   "cell_type": "code",
   "execution_count": 3,
   "id": "21b715c0",
   "metadata": {},
   "outputs": [
    {
     "data": {
      "text/plain": [
       "Index(['ชื่อเทศกาล', 'รหัสจังหวัด', 'จังหวัด', 'รหัส รพ.',\n",
       "       'ชื่อโรงพยาบาลที่รับผู้บาดเจ็บ', 'วันที่เกิดเหตุ', 'เวลาเกิดเหตุ',\n",
       "       'เพศ', 'อายุ', 'ถนนที่เกิดเหตุ', 'สถานะ', 'รถผู้บาดเจ็บ', 'รถคู่กรณี',\n",
       "       'มาตรการ', 'การดื่มสุรา', 'การนำส่ง', 'Refer-Admit', 'ผลการรักษา',\n",
       "       'จำนวนวันรักษา'],\n",
       "      dtype='object')"
      ]
     },
     "execution_count": 3,
     "metadata": {},
     "output_type": "execute_result"
    }
   ],
   "source": [
    "df.columns"
   ]
  },
  {
   "cell_type": "markdown",
   "id": "6d751350",
   "metadata": {},
   "source": [
    "ตั้งคำถามอะไร?\n",
    "(ใครเกิดอุบัติเหตุมากที่สุด)"
   ]
  },
  {
   "cell_type": "code",
   "execution_count": 7,
   "id": "2c1efdff",
   "metadata": {},
   "outputs": [
    {
     "data": {
      "text/plain": [
       "จังหวัด\n",
       "นครราชสีมา       9835\n",
       "เชียงใหม่        7930\n",
       "ชลบุรี           7221\n",
       "ขอนแก่น          6779\n",
       "บุรีรัมย์        6097\n",
       "กรุงเทพมหานคร    5921\n",
       "สงขลา            5397\n",
       "สุราษฎร์ธานี     5354\n",
       "เชียงราย         5025\n",
       "นครศรีธรรมราช    4643\n",
       "Name: count, dtype: int64"
      ]
     },
     "execution_count": 7,
     "metadata": {},
     "output_type": "execute_result"
    }
   ],
   "source": [
    "df['จังหวัด'].value_counts()[:10]"
   ]
  },
  {
   "cell_type": "code",
   "execution_count": 8,
   "id": "fae074a9",
   "metadata": {},
   "outputs": [
    {
     "data": {
      "text/plain": [
       "ผลการรักษา\n",
       "ทุเลา/หาย                        211386\n",
       "ตายที่เกิดเหตุ                     2137\n",
       "ตายที่ห้องฉุกเฉิน                   492\n",
       "ตายในตึกภายใน 24 ชม. หลังเหตุ       463\n",
       "ตายในตึกหลัง 24 ชม. - 30 วัน        302\n",
       "ตายระหว่างนำส่ง                     111\n",
       "ตายระหว่างส่งต่อ                     59\n",
       "Name: count, dtype: int64"
      ]
     },
     "execution_count": 8,
     "metadata": {},
     "output_type": "execute_result"
    }
   ],
   "source": [
    "df['ผลการรักษา'].value_counts()"
   ]
  },
  {
   "cell_type": "code",
   "execution_count": 10,
   "id": "cd3420f7",
   "metadata": {},
   "outputs": [],
   "source": [
    "death_df = df[df['ผลการรักษา'] != 'ทุเลา/หาย']"
   ]
  },
  {
   "cell_type": "code",
   "execution_count": 11,
   "id": "d22195ba",
   "metadata": {},
   "outputs": [
    {
     "data": {
      "text/plain": [
       "จังหวัด\n",
       "นครราชสีมา      123\n",
       "เชียงใหม่       120\n",
       "นครสวรรค์       103\n",
       "ขอนแก่น         103\n",
       "บุรีรัมย์       101\n",
       "นครปฐม           94\n",
       "เชียงราย         89\n",
       "สุราษฎร์ธานี     87\n",
       "เพชรบูรณ์        83\n",
       "ระยอง            80\n",
       "Name: count, dtype: int64"
      ]
     },
     "execution_count": 11,
     "metadata": {},
     "output_type": "execute_result"
    }
   ],
   "source": [
    "death_df['จังหวัด'].value_counts()[:10]"
   ]
  },
  {
   "cell_type": "code",
   "execution_count": 13,
   "id": "0d577447",
   "metadata": {},
   "outputs": [
    {
     "data": {
      "text/plain": [
       "รถผู้บาดเจ็บ\n",
       "จักรยานยนต์       2298\n",
       "ปิคอัพ             426\n",
       "ไม่มี/ล้มเอง       263\n",
       "รถเก๋ง/แท็กซี่     206\n",
       "รถจักรยาน          144\n",
       "อื่นๆ               74\n",
       "สามล้อเครื่อง       45\n",
       "ไม่ทราบ             38\n",
       "รถบรรทุก            24\n",
       "รถตู้               22\n",
       "รถโดยสารใหญ่        13\n",
       "รถโดยสาร 4 ล้อ       9\n",
       "สามล้อถีบ            2\n",
       "Name: count, dtype: int64"
      ]
     },
     "execution_count": 13,
     "metadata": {},
     "output_type": "execute_result"
    }
   ],
   "source": [
    "death_df['รถผู้บาดเจ็บ'].value_counts()"
   ]
  },
  {
   "cell_type": "code",
   "execution_count": 14,
   "id": "ca1648f5",
   "metadata": {},
   "outputs": [],
   "source": [
    "motobike_death_df = death_df[death_df['รถผู้บาดเจ็บ'] == 'จักรยานยนต์']"
   ]
  },
  {
   "cell_type": "code",
   "execution_count": 17,
   "id": "69723ecf",
   "metadata": {},
   "outputs": [
    {
     "data": {
      "text/plain": [
       "จังหวัด\n",
       "เชียงใหม่       88\n",
       "ขอนแก่น         77\n",
       "นครราชสีมา      70\n",
       "นครปฐม          66\n",
       "สุราษฎร์ธานี    65\n",
       "                ..\n",
       "ยะลา             6\n",
       "ปัตตานี          5\n",
       "สมุทรสงคราม      5\n",
       "บึงกาฬ           4\n",
       "แม่ฮ่องสอน       2\n",
       "Name: count, Length: 77, dtype: int64"
      ]
     },
     "execution_count": 17,
     "metadata": {},
     "output_type": "execute_result"
    }
   ],
   "source": [
    "motobike_death_df['จังหวัด'].value_counts()"
   ]
  },
  {
   "cell_type": "code",
   "execution_count": 18,
   "id": "e7a2c435",
   "metadata": {},
   "outputs": [
    {
     "data": {
      "text/plain": [
       "เวลาเกิดเหตุ\n",
       "18:01-19:00 น.    204\n",
       "19:01-20:00 น.    152\n",
       "20:01-21:00 น.    148\n",
       "17:01-18:00 น.    135\n",
       "16:01-17:00 น.    133\n",
       "24:01-01:00 น.    125\n",
       "22:01-23:00 น.    117\n",
       "15:01-16:00 น.    116\n",
       "21:01-22:00 น.    114\n",
       "01:01-02:00 น.     98\n",
       "14:01-15:00 น.     96\n",
       "13:01-14:00 น.     86\n",
       "23:01-24:00 น.     84\n",
       "12:01-13:00 น.     73\n",
       "02:01-03:00 น.     72\n",
       "10:01-11:00 น.     70\n",
       "03:01-04:00 น.     68\n",
       "11:01-12:00 น.     68\n",
       "09:01-10:00 น.     64\n",
       "08:01-09:00 น.     61\n",
       "07:01-08:00 น.     57\n",
       "04:01-05:00 น.     51\n",
       "06:01-07:00 น.     41\n",
       "05:01-06:00 น.     40\n",
       "ไม่ทราบ            25\n",
       "Name: count, dtype: int64"
      ]
     },
     "execution_count": 18,
     "metadata": {},
     "output_type": "execute_result"
    }
   ],
   "source": [
    "motobike_death_df['เวลาเกิดเหตุ'].value_counts()\n"
   ]
  },
  {
   "cell_type": "code",
   "execution_count": 22,
   "id": "a5dcff59",
   "metadata": {},
   "outputs": [
    {
     "data": {
      "text/plain": [
       "วันที่เกิดเหตุ\n",
       "1     41\n",
       "31    25\n",
       "30    21\n",
       "2     13\n",
       "29     9\n",
       "28     7\n",
       "4      4\n",
       "3      3\n",
       "5      1\n",
       "27     1\n",
       "Name: count, dtype: int64"
      ]
     },
     "execution_count": 22,
     "metadata": {},
     "output_type": "execute_result"
    }
   ],
   "source": [
    "motobike_death_df[motobike_death_df['เวลาเกิดเหตุ'] == '24:01-01:00 น.']['วันที่เกิดเหตุ'].value_counts()"
   ]
  },
  {
   "cell_type": "code",
   "execution_count": 23,
   "id": "bfec3d7d",
   "metadata": {},
   "outputs": [
    {
     "data": {
      "text/plain": [
       "เพศ\n",
       "ชาย     1958\n",
       "หญิง     340\n",
       "Name: count, dtype: int64"
      ]
     },
     "execution_count": 23,
     "metadata": {},
     "output_type": "execute_result"
    }
   ],
   "source": [
    "motobike_death_df['เพศ'].value_counts()"
   ]
  },
  {
   "cell_type": "code",
   "execution_count": 24,
   "id": "72262328",
   "metadata": {},
   "outputs": [
    {
     "data": {
      "text/plain": [
       "เพศ\n",
       "ชาย     145146\n",
       "หญิง     69804\n",
       "Name: count, dtype: int64"
      ]
     },
     "execution_count": 24,
     "metadata": {},
     "output_type": "execute_result"
    }
   ],
   "source": [
    "df['เพศ'].value_counts()"
   ]
  },
  {
   "cell_type": "code",
   "execution_count": 25,
   "id": "b7fb9520",
   "metadata": {},
   "outputs": [
    {
     "data": {
      "text/plain": [
       "อายุ\n",
       "17    101\n",
       "18     93\n",
       "20     86\n",
       "16     83\n",
       "23     69\n",
       "     ... \n",
       "78      2\n",
       "86      1\n",
       "1       1\n",
       "3       1\n",
       "85      1\n",
       "Name: count, Length: 85, dtype: int64"
      ]
     },
     "execution_count": 25,
     "metadata": {},
     "output_type": "execute_result"
    }
   ],
   "source": [
    "motobike_death_df['อายุ'].value_counts()"
   ]
  },
  {
   "cell_type": "code",
   "execution_count": 28,
   "id": "9d110eb0",
   "metadata": {},
   "outputs": [
    {
     "data": {
      "text/plain": [
       "อายุ\n",
       "17    80\n",
       "18    71\n",
       "20    66\n",
       "16    63\n",
       "22    59\n",
       "      ..\n",
       "78     2\n",
       "86     1\n",
       "80     1\n",
       "82     1\n",
       "85     1\n",
       "Name: count, Length: 76, dtype: int64"
      ]
     },
     "execution_count": 28,
     "metadata": {},
     "output_type": "execute_result"
    }
   ],
   "source": [
    "motobike_death_df[motobike_death_df['สถานะ'] == 'ผู้ชับขี่']['อายุ'].value_counts()"
   ]
  },
  {
   "cell_type": "code",
   "execution_count": 31,
   "id": "5f359f9c",
   "metadata": {},
   "outputs": [
    {
     "data": {
      "text/plain": [
       "อายุ\n",
       "18    6097\n",
       "17    6003\n",
       "16    5837\n",
       "19    5333\n",
       "15    5100\n",
       "      ... \n",
       "90       2\n",
       "93       2\n",
       "97       2\n",
       "89       2\n",
       "96       1\n",
       "Name: count, Length: 95, dtype: int64"
      ]
     },
     "execution_count": 31,
     "metadata": {},
     "output_type": "execute_result"
    }
   ],
   "source": [
    "df[(df['รถผู้บาดเจ็บ'] == 'จักรยานยนต์') & (df['สถานะ'] == 'ผู้ชับขี่')]['อายุ'].value_counts()"
   ]
  },
  {
   "cell_type": "code",
   "execution_count": null,
   "id": "d557111d",
   "metadata": {},
   "outputs": [],
   "source": []
  }
 ],
 "metadata": {
  "kernelspec": {
   "display_name": "Python 3",
   "language": "python",
   "name": "python3"
  },
  "language_info": {
   "codemirror_mode": {
    "name": "ipython",
    "version": 3
   },
   "file_extension": ".py",
   "mimetype": "text/x-python",
   "name": "python",
   "nbconvert_exporter": "python",
   "pygments_lexer": "ipython3",
   "version": "3.11.6"
  }
 },
 "nbformat": 4,
 "nbformat_minor": 5
}
